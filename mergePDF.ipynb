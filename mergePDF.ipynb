{
 "cells": [
  {
   "cell_type": "markdown",
   "metadata": {},
   "source": [
    "# 別紙と追加情報をマージする\n",
    "## データ形式\n",
    "\n",
    "以下のように同じ日付のデータは1つにまとめる\n",
    "\n",
    "``` json\n",
    "{\"date\" : \"20210703\", \"isAdd\" : \"False\", \"age\" : \"20,45,246,166,109,71,30,11,15,3,0,0\", \"seriouslyIll\" : \"\"}\n",
    "{\"date\" : \"20210703\", \"isAdd\" : \"True\", \"seriouslyIll\" : \"0,2,1,4,16,9,14,4,0,0,0,38,12,0\"}\n",
    "```\n",
    "\n",
    "## アウトプット\n",
    "\n",
    "csvファイルで出力\n",
    "年代別患者, 年代・性別重症者 \n",
    "\n",
    "## 処理イメージ\n",
    "\n",
    "* 入力ファイルを読み込む\n",
    "* 日付が一致する場合、データをマージする\n",
    "* 入力ファイルのデータを全て読み込んだ後、マージしたデータを出力する\n"
   ]
  },
  {
   "cell_type": "code",
   "execution_count": null,
   "metadata": {},
   "outputs": [],
   "source": []
  }
 ],
 "metadata": {
  "kernelspec": {
   "display_name": "Python 3",
   "language": "python",
   "name": "python3"
  },
  "language_info": {
   "codemirror_mode": {
    "name": "ipython",
    "version": 3
   },
   "file_extension": ".py",
   "mimetype": "text/x-python",
   "name": "python",
   "nbconvert_exporter": "python",
   "pygments_lexer": "ipython3",
   "version": "3.7.6"
  }
 },
 "nbformat": 4,
 "nbformat_minor": 4
}
