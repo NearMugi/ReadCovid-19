{
 "cells": [
  {
   "cell_type": "markdown",
   "metadata": {},
   "source": [
    "# Settingファイルからフォルダ名・ファイル名を取得する"
   ]
  },
  {
   "cell_type": "code",
   "execution_count": 1,
   "metadata": {},
   "outputs": [
    {
     "name": "stdout",
     "output_type": "stream",
     "text": [
      "20211216_215029\tINFO\t[<module>] Start\n",
      "20211216_215029\tINFO\t[getSettingData] SaveDir : d:\\#WorkSpace\\ReadCovid-19/\n",
      "20211216_215029\tINFO\t[<module>] SettingData{\"listFolder\": \"list\", \"dataFolder\": \"data\", \"dataList\": \"dataList.json\", \"parseList\": \"parsePDF.json\", \"outputList\": \"outputList.csv\", \"prevPressURLList\": \"prevPressURL.txt\", \"log\": \"parse_DATE.log\", \"header\": \"date,under10,10,20,30,40,50,60,70,80,90,100,unknown,SeriouslyIll_under,SeriouslyIll_10,SeriouslyIll_20,SeriouslyIll_30,SeriouslyIll_40,SeriouslyIll_50,SeriouslyIll_60,SeriouslyIll_70,SeriouslyIll_80,SeriouslyIll_90,SeriouslyIll_100,SeriouslyIll_unknown,SeriouslyIll_male,SeriouslyIll_female,SeriouslyIll_sex_unknown\"}\n",
      "20211216_215029\tINFO\t[<module>] End\n"
     ]
    },
    {
     "ename": "SystemExit",
     "evalue": "0",
     "output_type": "error",
     "traceback": [
      "An exception has occurred, use %tb to see the full traceback.\n",
      "\u001b[1;31mSystemExit\u001b[0m\u001b[1;31m:\u001b[0m 0\n"
     ]
    },
    {
     "name": "stderr",
     "output_type": "stream",
     "text": [
      "C:\\Users\\Teppei\\Anaconda3\\lib\\site-packages\\IPython\\core\\interactiveshell.py:3449: UserWarning: To exit: use 'exit', 'quit', or Ctrl-D.\n",
      "  warn(\"To exit: use 'exit', 'quit', or Ctrl-D.\", stacklevel=1)\n"
     ]
    }
   ],
   "source": [
    "import sys\n",
    "import json\n",
    "import comFunction\n",
    "\n",
    "com = comFunction.common()\n",
    "settingDict = dict()\n",
    "tagSaveDir = '[0]'\n",
    "tagListFolder = '[b]'\n",
    "tagDataFolder = '[B]'\n",
    "tagSaveDataListName = '[c]'\n",
    "tagSaveParsePDFName = '[j]'\n",
    "tagSaveOutputListName = '[k]'\n",
    "tagPrevPressURLName = '[m]'\n",
    "tagLogName = '[o]'\n",
    "tagHeader = '[p]'\n",
    "    \n",
    "def getSettingData():\n",
    "    # 設定ファイルから必要な情報を取得する\n",
    "    # 先頭は必ず SaveDir にする\n",
    "    settingDict = com.getSettingData([\n",
    "        tagSaveDir,\n",
    "        tagListFolder,\n",
    "        tagDataFolder,\n",
    "        tagSaveDataListName,\n",
    "        tagSaveParsePDFName,\n",
    "        tagSaveOutputListName,\n",
    "        tagPrevPressURLName,\n",
    "        tagLogName,\n",
    "        tagHeader\n",
    "        ])\n",
    "\n",
    "    retDict = dict()\n",
    "    if len(settingDict) <= 0:\n",
    "        com.errMsg(sys._getframe().f_code.co_name, 'SettingData is none...')\n",
    "        return retDict, 1\n",
    "\n",
    "    retDict['listFolder'] = settingDict[tagListFolder]\n",
    "    retDict['dataFolder'] = settingDict[tagDataFolder]\n",
    "    retDict['dataList'] = settingDict[tagSaveDataListName]\n",
    "    retDict['parseList'] = settingDict[tagSaveParsePDFName]\n",
    "    retDict['outputList'] = settingDict[tagSaveOutputListName]\n",
    "    retDict['prevPressURLList'] = settingDict[tagPrevPressURLName]\n",
    "    retDict['log'] = settingDict[tagLogName]\n",
    "    retDict['header'] = settingDict[tagHeader]\n",
    "\n",
    "    return retDict, 0\n",
    "\n",
    "if __name__ == '__main__':\n",
    "    com = comFunction.common()\n",
    "    com.infoMsg(sys._getframe().f_code.co_name, 'Start')\n",
    "    ret, isError = getSettingData()\n",
    "    com.infoMsg(sys._getframe().f_code.co_name, 'End')\n",
    "    \n",
    "    # return Data\n",
    "    print(json.dumps(ret))\n",
    "    sys.exit(isError)   "
   ]
  }
 ],
 "metadata": {
  "interpreter": {
   "hash": "f58e4e82543d0cd2d619c0cff608aeecaf29525f81c9c30d530b5f9f1bf488f9"
  },
  "kernelspec": {
   "display_name": "Python 3.7.6 64-bit ('base': conda)",
   "name": "python3"
  },
  "language_info": {
   "codemirror_mode": {
    "name": "ipython",
    "version": 3
   },
   "file_extension": ".py",
   "mimetype": "text/x-python",
   "name": "python",
   "nbconvert_exporter": "python",
   "pygments_lexer": "ipython3",
   "version": "3.7.6"
  }
 },
 "nbformat": 4,
 "nbformat_minor": 2
}
