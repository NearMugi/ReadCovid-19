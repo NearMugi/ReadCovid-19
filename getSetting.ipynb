{
 "cells": [
  {
   "cell_type": "markdown",
   "source": [
    "# Settingファイルの値を出力する\r\n"
   ],
   "metadata": {}
  },
  {
   "cell_type": "markdown",
   "source": [
    "## import"
   ],
   "metadata": {}
  },
  {
   "cell_type": "code",
   "execution_count": 9,
   "source": [
    "import sys\r\n",
    "import os\r\n",
    "from WebScrapingTool import Base_UserFunction as uf"
   ],
   "outputs": [],
   "metadata": {}
  },
  {
   "cell_type": "markdown",
   "source": [
    "## Settingファイルからフォルダ名・ファイル名を取得する"
   ],
   "metadata": {}
  },
  {
   "cell_type": "code",
   "execution_count": 10,
   "source": [
    "class readSettingFile:\r\n",
    "    # コンストラクタ\r\n",
    "    def __init__(self):\r\n",
    "        pass\r\n",
    "    \r\n",
    "    def getSettingData(self):\r\n",
    "        # 設定ファイルから必要な情報を取得する\r\n",
    "        # タグ\r\n",
    "        tag_ListFolder = '[b]'\r\n",
    "        tag_DataFolder = '[B]'\r\n",
    "        tag_saveDataListName = '[c]'\r\n",
    "        tag_saveParsePDFName = '[j]'\r\n",
    "        tag_saveOutputListName = '[k]'\r\n",
    "        tag_prevPressURLName = '[m]'\r\n",
    "        tag_logName = '[o]'\r\n",
    "        \r\n",
    "        # カレントディレクトリ取得\r\n",
    "        currentDir = os.path.dirname(os.path.abspath(\"__file__\")) + '/'\r\n",
    "#        currentDir = os.path.dirname(__file__) + '/'\r\n",
    "        print(currentDir)\r\n",
    "        retDict = dict()\r\n",
    "\r\n",
    "        try:\r\n",
    "            with open(currentDir + '_Setting.txt', mode='r') as f:\r\n",
    "                lines = f.readlines()\r\n",
    "                for l in lines:\r\n",
    "                    if l.startswith(tag_ListFolder, 0, 3):\r\n",
    "                        retDict['listFolder'] = l.replace(tag_ListFolder, '').rstrip()\r\n",
    "                    if l.startswith(tag_DataFolder, 0, 3):\r\n",
    "                        retDict['dataFolder'] = l.replace(tag_DataFolder, '').rstrip()\r\n",
    "                    if l.startswith(tag_saveDataListName, 0, 3):\r\n",
    "                        retDict['dataList'] = l.replace(tag_saveDataListName, '').rstrip()\r\n",
    "                    if l.startswith(tag_saveParsePDFName, 0, 3):\r\n",
    "                        retDict['parseList'] = l.replace(tag_saveParsePDFName, '').rstrip()\r\n",
    "                    if l.startswith(tag_saveOutputListName, 0, 3):\r\n",
    "                        retDict['outputList'] = l.replace(tag_saveOutputListName, '').rstrip()\r\n",
    "                    if l.startswith(tag_prevPressURLName, 0, 3):\r\n",
    "                        retDict['prevPressURLList'] = l.replace(tag_prevPressURLName, '').rstrip()\r\n",
    "                    if l.startswith(tag_logName, 0, 3):\r\n",
    "                        retDict['log'] = l.replace(tag_logName, '').rstrip()\r\n",
    "\r\n",
    "        except:\r\n",
    "            print('[!!!ERROR!!!] Read Setting Text')\r\n",
    "\r\n",
    "        return retDict    "
   ],
   "outputs": [],
   "metadata": {}
  },
  {
   "cell_type": "markdown",
   "source": [
    "## 最初に呼ばれる"
   ],
   "metadata": {}
  },
  {
   "cell_type": "code",
   "execution_count": 11,
   "source": [
    "def main():  \r\n",
    "    print(\"\\n[Start]\" + uf.getNowTime() + '\\n')            \r\n",
    "\r\n",
    "    read = readSettingFile()\r\n",
    "    \r\n",
    "    print(\"\\n[ End ]\" + uf.getNowTime() + '\\n')\r\n",
    "    \r\n",
    "    return read.getSettingData()"
   ],
   "outputs": [],
   "metadata": {
    "scrolled": false
   }
  },
  {
   "cell_type": "markdown",
   "source": [
    "## 処理開始"
   ],
   "metadata": {}
  },
  {
   "cell_type": "code",
   "execution_count": 12,
   "source": [
    "if __name__ == '__main__':\r\n",
    "    ret = main()\r\n",
    "    sys.exit(ret)"
   ],
   "outputs": [
    {
     "output_type": "stream",
     "name": "stdout",
     "text": [
      "\n",
      "[Start]20210904231205\n",
      "\n",
      "\n",
      "[ End ]20210904231205\n",
      "\n",
      "d:\\#WorkSpace\\ReadCovid-19/\n"
     ]
    },
    {
     "output_type": "error",
     "ename": "SystemExit",
     "evalue": "{'listFolder': 'list', 'dataFolder': 'data', 'dataList': 'dataList.json', 'parseList': 'parsePDF.json', 'outputList': 'outputList.csv', 'prevPressURLList': 'prevPressURL.txt', 'log': 'parse_DATE.log'}",
     "traceback": [
      "An exception has occurred, use %tb to see the full traceback.\n",
      "\u001b[1;31mSystemExit\u001b[0m\u001b[1;31m:\u001b[0m {'listFolder': 'list', 'dataFolder': 'data', 'dataList': 'dataList.json', 'parseList': 'parsePDF.json', 'outputList': 'outputList.csv', 'prevPressURLList': 'prevPressURL.txt', 'log': 'parse_DATE.log'}\n"
     ]
    }
   ],
   "metadata": {}
  }
 ],
 "metadata": {
  "interpreter": {
   "hash": "f58e4e82543d0cd2d619c0cff608aeecaf29525f81c9c30d530b5f9f1bf488f9"
  },
  "kernelspec": {
   "name": "python3",
   "display_name": "Python 3.7.6 64-bit ('base': conda)"
  },
  "language_info": {
   "codemirror_mode": {
    "name": "ipython",
    "version": 3
   },
   "file_extension": ".py",
   "mimetype": "text/x-python",
   "name": "python",
   "nbconvert_exporter": "python",
   "pygments_lexer": "ipython3",
   "version": "3.7.6"
  }
 },
 "nbformat": 4,
 "nbformat_minor": 2
}