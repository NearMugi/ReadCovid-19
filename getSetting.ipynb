{
 "cells": [
  {
   "cell_type": "markdown",
   "source": [
    "# Settingファイルの値を出力する\r\n"
   ],
   "metadata": {}
  },
  {
   "cell_type": "markdown",
   "source": [
    "## import"
   ],
   "metadata": {}
  },
  {
   "cell_type": "code",
   "execution_count": 34,
   "source": [
    "import sys\r\n",
    "import os\r\n",
    "import json\r\n",
    "from WebScrapingTool import Base_UserFunction as uf"
   ],
   "outputs": [],
   "metadata": {}
  },
  {
   "cell_type": "markdown",
   "source": [
    "## Settingファイルからフォルダ名・ファイル名を取得する"
   ],
   "metadata": {}
  },
  {
   "cell_type": "code",
   "execution_count": 35,
   "source": [
    "class readSettingFile:\r\n",
    "    # コンストラクタ\r\n",
    "    def __init__(self):\r\n",
    "        pass\r\n",
    "    \r\n",
    "    def getSettingData(self):\r\n",
    "        # 設定ファイルから必要な情報を取得する\r\n",
    "        # タグ\r\n",
    "        tag_ListFolder = '[b]'\r\n",
    "        tag_DataFolder = '[B]'\r\n",
    "        tag_saveDataListName = '[c]'\r\n",
    "        tag_saveParsePDFName = '[j]'\r\n",
    "        tag_saveOutputListName = '[k]'\r\n",
    "        tag_prevPressURLName = '[m]'\r\n",
    "        tag_logName = '[o]'\r\n",
    "        tag_header = '[p]'\r\n",
    "        \r\n",
    "        # カレントディレクトリ取得\r\n",
    "        currentDir = '/'\r\n",
    "        try:\r\n",
    "            # Node-RED から呼び出し\r\n",
    "            currentDir = os.path.dirname(__file__) + '/'\r\n",
    "        except:\r\n",
    "            # jupyterNotebook から呼び出し\r\n",
    "            currentDir = os.path.dirname(os.path.abspath(\"__file__\")) + '/'\r\n",
    "        retDict = dict()\r\n",
    "\r\n",
    "        try:\r\n",
    "            with open(currentDir + '_Setting.txt', mode='r') as f:\r\n",
    "                lines = f.readlines()\r\n",
    "                for l in lines:\r\n",
    "                    if l.startswith(tag_ListFolder, 0, 3):\r\n",
    "                        retDict['listFolder'] = l.replace(tag_ListFolder, '').rstrip()\r\n",
    "                    if l.startswith(tag_DataFolder, 0, 3):\r\n",
    "                        retDict['dataFolder'] = l.replace(tag_DataFolder, '').rstrip()\r\n",
    "                    if l.startswith(tag_saveDataListName, 0, 3):\r\n",
    "                        retDict['dataList'] = l.replace(tag_saveDataListName, '').rstrip()\r\n",
    "                    if l.startswith(tag_saveParsePDFName, 0, 3):\r\n",
    "                        retDict['parseList'] = l.replace(tag_saveParsePDFName, '').rstrip()\r\n",
    "                    if l.startswith(tag_saveOutputListName, 0, 3):\r\n",
    "                        retDict['outputList'] = l.replace(tag_saveOutputListName, '').rstrip()\r\n",
    "                    if l.startswith(tag_prevPressURLName, 0, 3):\r\n",
    "                        retDict['prevPressURLList'] = l.replace(tag_prevPressURLName, '').rstrip()\r\n",
    "                    if l.startswith(tag_logName, 0, 3):\r\n",
    "                        retDict['log'] = l.replace(tag_logName, '').rstrip()\r\n",
    "                    if l.startswith(tag_header, 0, 3):\r\n",
    "                        retDict['header'] = l.replace(tag_header, '').rstrip()\r\n",
    "\r\n",
    "        except:\r\n",
    "            print('[!!!ERROR!!!] Read Setting Text')\r\n",
    "            return retDict, 1\r\n",
    "\r\n",
    "        return retDict, 0"
   ],
   "outputs": [],
   "metadata": {}
  },
  {
   "cell_type": "markdown",
   "source": [
    "## 処理開始"
   ],
   "metadata": {}
  },
  {
   "cell_type": "code",
   "execution_count": 36,
   "source": [
    "if __name__ == '__main__':\r\n",
    "    read = readSettingFile()\r\n",
    "    ret, isError = read.getSettingData()\r\n",
    "    print(json.dumps(ret))\r\n",
    "    sys.exit(isError)   "
   ],
   "outputs": [
    {
     "output_type": "stream",
     "name": "stdout",
     "text": [
      "d:\\#WorkSpace\\ReadCovid-19/\n",
      "{\"listFolder\": \"list\", \"dataFolder\": \"data\", \"dataList\": \"dataList.json\", \"parseList\": \"parsePDF.json\", \"outputList\": \"outputList.csv\", \"prevPressURLList\": \"prevPressURL.txt\", \"log\": \"parse_DATE.log\"}\n"
     ]
    },
    {
     "output_type": "error",
     "ename": "SystemExit",
     "evalue": "0",
     "traceback": [
      "An exception has occurred, use %tb to see the full traceback.\n",
      "\u001b[1;31mSystemExit\u001b[0m\u001b[1;31m:\u001b[0m 0\n"
     ]
    },
    {
     "output_type": "stream",
     "name": "stderr",
     "text": [
      "C:\\Users\\Teppei\\Anaconda3\\lib\\site-packages\\IPython\\core\\interactiveshell.py:3351: UserWarning: To exit: use 'exit', 'quit', or Ctrl-D.\n",
      "  warn(\"To exit: use 'exit', 'quit', or Ctrl-D.\", stacklevel=1)\n"
     ]
    }
   ],
   "metadata": {}
  }
 ],
 "metadata": {
  "interpreter": {
   "hash": "f58e4e82543d0cd2d619c0cff608aeecaf29525f81c9c30d530b5f9f1bf488f9"
  },
  "kernelspec": {
   "name": "python3",
   "display_name": "Python 3.7.6 64-bit ('base': conda)"
  },
  "language_info": {
   "codemirror_mode": {
    "name": "ipython",
    "version": 3
   },
   "file_extension": ".py",
   "mimetype": "text/x-python",
   "name": "python",
   "nbconvert_exporter": "python",
   "pygments_lexer": "ipython3",
   "version": "3.7.6"
  }
 },
 "nbformat": 4,
 "nbformat_minor": 2
}