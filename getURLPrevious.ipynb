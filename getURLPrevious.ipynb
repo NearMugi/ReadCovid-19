{
 "cells": [
  {
   "cell_type": "markdown",
   "source": [
    "# 報道発表プレスのうち「新型コロナウイルスに関連した患者の発生について」のURLをテキストに出力  \r\n",
    "  \r\n",
    "## 仕様  \r\n",
    "- https://www.metro.tokyo.lg.jp/tosei/hodohappyo/press/YYYY/MM/DD/NN.html のうち、上記プレスに該当するURLを探す\r\n",
    "- テキストは指定したフォルダへ保存する  \r\n",
    "\r\n",
    "## 構成  \r\n",
    "- Setting.text\r\n",
    "  - 設定ファイル\r\n",
    "    - 保存先の親フォルダを指定\r\n"
   ],
   "metadata": {}
  },
  {
   "cell_type": "markdown",
   "source": [
    "## import"
   ],
   "metadata": {}
  },
  {
   "cell_type": "code",
   "execution_count": 153,
   "source": [
    "import os\r\n",
    "import json\r\n",
    "from WebScrapingTool import Base_UserFunction as uf\r\n",
    "import time\r\n",
    "\r\n",
    "#デバッグモードの指定\r\n",
    "#コンストラクタでTrue/Falseを設定\r\n",
    "#main()でインスタンスを定義\r\n",
    "global DEBUG\r\n",
    "class debug:\r\n",
    "    #コンストラクタ\r\n",
    "    def __init__(self, isDebug):\r\n",
    "        global DEBUG\r\n",
    "        DEBUG = isDebug\r\n",
    "    def printLog(self, msg):\r\n",
    "        if DEBUG:\r\n",
    "            print(msg)"
   ],
   "outputs": [],
   "metadata": {}
  },
  {
   "cell_type": "markdown",
   "source": [
    "## 基本パーツ"
   ],
   "metadata": {}
  },
  {
   "cell_type": "code",
   "execution_count": 149,
   "source": [
    "class base:\r\n",
    "    saveFolder = ''\r\n",
    "    saveFileName = ''\r\n",
    "    baseURL = ''\r\n",
    "\r\n",
    "    saveData = list()\r\n",
    "\r\n",
    "    # コンストラクタ\r\n",
    "    def __init__(self):\r\n",
    "        pass\r\n",
    "    \r\n",
    "    def setSettingData(self):\r\n",
    "        #設定ファイルから必要な情報を取得する\r\n",
    "        #タグ\r\n",
    "        tag_debug = '[a]'\r\n",
    "        tag_saveFolder = '[b]'\r\n",
    "        tag_baseURL = '[l]'\r\n",
    "        tag_saveFileName = '[m]'\r\n",
    "        isDebug = False\r\n",
    "\r\n",
    "        try:\r\n",
    "            with open('_Setting.txt', mode='r') as f:\r\n",
    "                lines = f.readlines()\r\n",
    "                for l in lines:\r\n",
    "                    if l.startswith(tag_debug, 0, 3):\r\n",
    "                        if (l.replace(tag_debug, '').rstrip()).lower() == 'true':\r\n",
    "                            isDebug = True\r\n",
    "                        else:\r\n",
    "                            isDebug = False                    \r\n",
    "\r\n",
    "                    if l.startswith(tag_saveFolder, 0, 3):\r\n",
    "                        self.saveFolder = l.replace(tag_saveFolder, '').rstrip()\r\n",
    "\r\n",
    "                    if l.startswith(tag_saveFileName, 0, 3):\r\n",
    "                        self.saveFileName = l.replace(tag_saveFileName, '').rstrip()\r\n",
    "\r\n",
    "                    if l.startswith(tag_baseURL, 0, 3):\r\n",
    "                        self.baseURL = l.replace(tag_baseURL, '').rstrip()\r\n",
    "\r\n",
    "        except:\r\n",
    "            print('[!!!ERROR!!!] Read Setting Text')\r\n",
    "                \r\n",
    "        return isDebug\r\n",
    "        \r\n",
    "    def checkInitialize(self):\r\n",
    "        if len(self.saveFolder) <= 0:\r\n",
    "            print('[!!!ERROR!!!] Save FolderName is Empty!')\r\n",
    "            return False    \r\n",
    "        if len(self.saveFileName) <= 0:\r\n",
    "            print('[!!!ERROR!!!] Save FileName is Empty!')\r\n",
    "            return False    \r\n",
    "        return True        \r\n",
    "        \r\n",
    "    def createSaveFolderAndFile(self):\r\n",
    "        if not os.path.exists(self.saveFolder):\r\n",
    "            os.mkdir(self.saveFolder)\r\n",
    "        oFile = self.saveFolder + '/' + self.saveFileName\r\n",
    "        if not os.path.exists(oFile):\r\n",
    "            f = open(oFile,'w')\r\n",
    "            f.close()\r\n",
    "\r\n",
    "\r\n",
    "    def getSettingData(self):\r\n",
    "        return self.baseURL\r\n",
    "    \r\n",
    "    def setSaveData(self, _data):\r\n",
    "        self.saveData.append(_data)\r\n",
    "        \r\n",
    "    def saveGetData(self):\r\n",
    "        print('[Save Data]')\r\n",
    "        if len(self.saveData) <= 0:\r\n",
    "            print('No Data...')\r\n",
    "            return\r\n",
    "        \r\n",
    "        # リスト作成\r\n",
    "        oFile = self.saveFolder + '/' + self.saveFileName\r\n",
    "        \r\n",
    "        # ファイル出力(上書きではない)\r\n",
    "        with open(oFile, mode='w') as fs:\r\n",
    "            for line in self.saveData:\r\n",
    "                uf.fileWrite(fs, line)\r\n",
    "            \r\n",
    "        uf.fileDataSlim(oFile)    \r\n",
    "    "
   ],
   "outputs": [],
   "metadata": {}
  },
  {
   "cell_type": "markdown",
   "source": [
    "## スクレイピング本体"
   ],
   "metadata": {}
  },
  {
   "cell_type": "code",
   "execution_count": 150,
   "source": [
    "from urllib.request import Request,urlopen\r\n",
    "from urllib.error import HTTPError\r\n",
    "from urllib.error import URLError\r\n",
    "\r\n",
    "class work:\r\n",
    "    baseURL = ''\r\n",
    "    #コンストラクタ\r\n",
    "    def __init__(self, b):\r\n",
    "        self.baseURL = b.getSettingData()\r\n",
    "\r\n",
    "    def getURLandSetData(self, d, b):\r\n",
    "        for y in range(2021, 2019, -1):\r\n",
    "            for m in range(1, 13):\r\n",
    "                for d in range(1, 31):\r\n",
    "                    _baseUrl = self.baseURL.replace('YYYY', str(y).zfill(4))\r\n",
    "                    _baseUrl = _baseUrl.replace('MM', str(m).zfill(2))\r\n",
    "                    _baseUrl = _baseUrl.replace('DD', str(d).zfill(2))\r\n",
    "                    print(str(y).zfill(4) + \"/\" + str(m).zfill(2) + \"/\" + str(d).zfill(2))\r\n",
    "                    \r\n",
    "                    _idx = 1\r\n",
    "                    while _idx < 50:\r\n",
    "                        _url = _baseUrl.replace('NN', str(_idx).zfill(2))\r\n",
    " \r\n",
    "                        try:\r\n",
    "                            time.sleep(0.1)\r\n",
    "                            req = Request(_url, headers={'User-Agent': 'Mozilla/5.0'})\r\n",
    "                            _html = urlopen(req)\r\n",
    "                        except HTTPError as e:\r\n",
    "                            continue\r\n",
    "                        except URLError as e:#サーバーに全く到達できない(URLの記述が間違えているなど)\r\n",
    "                            print('The server could not be found!')\r\n",
    "                            continue\r\n",
    "                        else:\r\n",
    "                            bs = uf.getBS4(_html)\r\n",
    "                            _title = bs.head.title.text\r\n",
    "                            if '新型コロナウイルス' in _title and '患者の発生' in _title:                            \r\n",
    "                                print('get URL : ' + _title)\r\n",
    "                                b.setSaveData(_url + '\\n')\r\n",
    "\r\n",
    "                        finally:\r\n",
    "                            _idx += 1\r\n",
    "\r\n",
    "        \r\n",
    "        return True"
   ],
   "outputs": [],
   "metadata": {}
  },
  {
   "cell_type": "markdown",
   "source": [
    "## 最初に呼ばれる"
   ],
   "metadata": {}
  },
  {
   "cell_type": "code",
   "execution_count": 151,
   "source": [
    "def main():  \r\n",
    "    print(\"\\n[Start]\" + uf.getNowTime() + '\\n')            \r\n",
    "\r\n",
    "    b = base()\r\n",
    "    isDebug = b.setSettingData()\r\n",
    "    if not b.checkInitialize():\r\n",
    "        return\r\n",
    "    \r\n",
    "    # デバッグの設定\r\n",
    "    d = debug(isDebug)\r\n",
    "\r\n",
    "    w = work(b)\r\n",
    "    \r\n",
    "    # 保存フォルダ,ファイル作成\r\n",
    "    b.createSaveFolderAndFile()\r\n",
    "    \r\n",
    "    w.getURLandSetData(d, b)\r\n",
    "    b.saveGetData()\r\n",
    "    \r\n",
    "    \r\n",
    "    print(\"\\n[ End ]\" + uf.getNowTime() + '\\n')\r\n",
    "    \r\n"
   ],
   "outputs": [],
   "metadata": {
    "scrolled": false
   }
  },
  {
   "cell_type": "markdown",
   "source": [
    "## 処理開始"
   ],
   "metadata": {}
  },
  {
   "cell_type": "code",
   "execution_count": 152,
   "source": [
    "if __name__ == '__main__':\r\n",
    "    main()"
   ],
   "outputs": [
    {
     "output_type": "stream",
     "name": "stdout",
     "text": [
      "\n",
      "[Start]20210725225820\n",
      "\n",
      "2021/01/01\n",
      "get URL : 新型コロナウイルスに関連した患者の発生（1293報）｜東京都\n",
      "get URL : 新型コロナウイルスに関連した患者の発生（1295報）｜東京都\n",
      "get URL : 新型コロナウイルスに関連した患者の発生（1299報）｜東京都\n",
      "2020/01/01\n",
      "[Save Data]\n",
      "\n",
      "[ End ]20210725225836\n",
      "\n"
     ]
    }
   ],
   "metadata": {}
  }
 ],
 "metadata": {
  "kernelspec": {
   "name": "python3",
   "display_name": "Python 3.7.6 64-bit ('base': conda)"
  },
  "language_info": {
   "codemirror_mode": {
    "name": "ipython",
    "version": 3
   },
   "file_extension": ".py",
   "mimetype": "text/x-python",
   "name": "python",
   "nbconvert_exporter": "python",
   "pygments_lexer": "ipython3",
   "version": "3.7.6"
  },
  "interpreter": {
   "hash": "f58e4e82543d0cd2d619c0cff608aeecaf29525f81c9c30d530b5f9f1bf488f9"
  }
 },
 "nbformat": 4,
 "nbformat_minor": 2
}