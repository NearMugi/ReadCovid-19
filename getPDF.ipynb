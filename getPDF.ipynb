{
 "cells": [
  {
   "cell_type": "code",
   "execution_count": 7,
   "source": [
    "import sys\r\n",
    "import os\r\n",
    "import shutil\r\n",
    "import requests\r\n",
    "from WebScrapingTool import Base_UserFunction as uf\r\n",
    "from WebScrapingTool import Base_GetHtmlList as _gethtml\r\n",
    "import glob\r\n",
    "import json\r\n",
    "import urllib\r\n",
    "import time"
   ],
   "outputs": [],
   "metadata": {}
  },
  {
   "cell_type": "code",
   "execution_count": 8,
   "source": [
    "def getPDF(url, savePath, fn):\r\n",
    "    savePath = os.path.join(savePath, fn)\r\n",
    "    try:\r\n",
    "        urllib.request.urlretrieve(url, savePath)\r\n",
    "    except:\r\n",
    "        print('ERROR  url: ' + url)    \r\n"
   ],
   "outputs": [],
   "metadata": {}
  },
  {
   "cell_type": "code",
   "execution_count": 9,
   "source": [
    "def main():\r\n",
    "    import re\r\n",
    "    print(\"\\n[Start]\"  + uf.getNowTime() + '\\n')\r\n",
    "\r\n",
    "    #設定ファイルから必要な情報を取得する\r\n",
    "    #タグ\r\n",
    "    tag_debug = '[a]'\r\n",
    "    tag_saveFolder = '[b]'\r\n",
    "    tag_saveFileName = '[c]'\r\n",
    "    \r\n",
    "    isDebug = False\r\n",
    "    _saveFolder = ''\r\n",
    "    _saveFileName = ''\r\n",
    "    \r\n",
    "    try:\r\n",
    "        with open('_Setting.txt', mode='r') as f:\r\n",
    "            lines = f.readlines()\r\n",
    "            for l in lines:\r\n",
    "                if l.startswith(tag_debug, 0, 3):\r\n",
    "                    if (l.replace(tag_debug, '').rstrip()).lower() == 'true':\r\n",
    "                        isDebug = True\r\n",
    "                    else:\r\n",
    "                        isDebug = False                    \r\n",
    "\r\n",
    "                if l.startswith(tag_saveFolder, 0, 3):\r\n",
    "                    _saveFolder = l.replace(tag_saveFolder, '').rstrip()\r\n",
    "             \r\n",
    "                if l.startswith(tag_saveFileName, 0, 3):\r\n",
    "                    _saveFileName = l.replace(tag_saveFileName, '').rstrip()\r\n",
    "             \r\n",
    "    except:\r\n",
    "        print('[!!!ERROR!!!] Read Setting.text')\r\n",
    "        return        \r\n",
    "    \r\n",
    "    if len(_saveFolder) <= 0:\r\n",
    "        print('[!!!ERROR!!!] Image data storage folder is None!')\r\n",
    "        return  \r\n",
    "    \r\n",
    "    baseText =_saveFolder + \"/\" + _saveFileName\r\n",
    "    print(baseText)\r\n",
    "    \r\n",
    "    # ファイルを開く\r\n",
    "    updateList = list()\r\n",
    "    with open(baseText, mode='r') as f:\r\n",
    "        cnt = 0\r\n",
    "        for line in f:\r\n",
    "            l = line\r\n",
    "            j = json.loads(line)\r\n",
    "            URL = j['url']\r\n",
    "            fileName = j['name']\r\n",
    "            isGetPDF = j['isGetPDF']\r\n",
    "            if isGetPDF == \"False\":\r\n",
    "                getPDF(URL, _saveFolder, fileName)\r\n",
    "                cnt += 1\r\n",
    "                print(\"...Access ImageURL : \" + URL + '  ' + str(cnt))\r\n",
    "                l = l.replace('\"isGetPDF\" : \"False\"', '\"isGetPDF\" : \"True\"')\r\n",
    "            updateList.append(l)\r\n",
    "\r\n",
    "        print('\\n...Get Size :' + str(cnt) + '\\n')\r\n",
    "\r\n",
    "    # ファイル更新\r\n",
    "    with open(baseText, mode='w') as f:\r\n",
    "        for line in updateList:\r\n",
    "                uf.fileWrite(f, line)\r\n",
    "\r\n",
    "    print(\"\\n[ End ]\"  + uf.getNowTime() + '\\n')\r\n",
    "    \r\n",
    "    \r\n",
    "if __name__ == '__main__':\r\n",
    "    main()"
   ],
   "outputs": [
    {
     "output_type": "stream",
     "name": "stdout",
     "text": [
      "\n",
      "[Start]20210723224017\n",
      "\n",
      "#data/dataList.json\n",
      "\n",
      "...Get Size :0\n",
      "\n",
      "\n",
      "[ End ]20210723224017\n",
      "\n"
     ]
    }
   ],
   "metadata": {}
  }
 ],
 "metadata": {
  "kernelspec": {
   "name": "python3",
   "display_name": "Python 3.7.6 64-bit ('base': conda)"
  },
  "language_info": {
   "codemirror_mode": {
    "name": "ipython",
    "version": 3
   },
   "file_extension": ".py",
   "mimetype": "text/x-python",
   "name": "python",
   "nbconvert_exporter": "python",
   "pygments_lexer": "ipython3",
   "version": "3.7.6"
  },
  "interpreter": {
   "hash": "f58e4e82543d0cd2d619c0cff608aeecaf29525f81c9c30d530b5f9f1bf488f9"
  }
 },
 "nbformat": 4,
 "nbformat_minor": 4
}