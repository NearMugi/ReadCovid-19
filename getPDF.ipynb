{
 "cells": [
  {
   "cell_type": "code",
   "execution_count": 1,
   "metadata": {},
   "outputs": [],
   "source": [
    "import os\n",
    "import sys\n",
    "import json\n",
    "from WebScrapingTool import Base_UserFunction as uf\n",
    "import comFunction\n",
    "import urllib"
   ]
  },
  {
   "cell_type": "code",
   "execution_count": 2,
   "metadata": {},
   "outputs": [],
   "source": [
    "def getPDF(url, savePath, fn):\n",
    "    com = comFunction.common()\n",
    "    savePath = os.path.join(savePath, fn)\n",
    "    try:\n",
    "        urllib.request.urlretrieve(url, savePath)\n",
    "    except:\n",
    "        com.errMsg(sys._getframe().f_code.co_name, 'url: ' + url)\n",
    "        return False\n",
    "    return True    \n"
   ]
  },
  {
   "cell_type": "code",
   "execution_count": 3,
   "metadata": {},
   "outputs": [
    {
     "name": "stdout",
     "output_type": "stream",
     "text": [
      "20211215_215808\tINFO\t[main] Start\n",
      "20211215_215808\tINFO\t[getSettingData] SaveDir : d:\\#WorkSpace\\ReadCovid-19/\n",
      "20211215_215808\tINFO\t[main] {\"[0]\": \"d:\\\\#WorkSpace\\\\ReadCovid-19/\", \"[a]\": \"True\", \"[b]\": \"list\", \"[B]\": \"data\", \"[c]\": \"dataList.json\"}\n",
      "20211215_215808\tINFO\t[main] URLList : list/dataList.json\n",
      "20211215_215808\tINFO\t[main] Get Size :0\n",
      "20211215_215808\tINFO\t[main] End\n"
     ]
    }
   ],
   "source": [
    "def main():\n",
    "    com = comFunction.common()\n",
    "    com.infoMsg(sys._getframe().f_code.co_name, 'Start')\n",
    "\n",
    "    #設定ファイルから必要な情報を取得する\n",
    "    settingDict = dict()\n",
    "    tagSaveDir = '[0]'\n",
    "    #タグ\n",
    "    tagDebug = '[a]'\n",
    "    tagSaveFolder = '[b]'\n",
    "    tagSavePDFFolder = '[B]'\n",
    "    tagSaveFileName = '[c]'\n",
    "    \n",
    "    settingDict = com.getSettingData([\n",
    "        tagSaveDir,\n",
    "        tagDebug,\n",
    "        tagSaveFolder,\n",
    "        tagSavePDFFolder,\n",
    "        tagSaveFileName\n",
    "        ])        \n",
    "    com.infoMsg(sys._getframe().f_code.co_name, json.dumps(settingDict))\n",
    "\n",
    "    if len(settingDict) <= 0:\n",
    "        com.errMsg(sys._getframe().f_code.co_name, 'SettingData is none...')\n",
    "        return\n",
    "\n",
    "    if settingDict[tagDebug] == 'true':\n",
    "        com.setDebug(True)\n",
    "    else:\n",
    "        com.setDebug(False)\n",
    "\n",
    "    _saveFolder = settingDict[tagSaveFolder]\n",
    "    _savePDFFolder = settingDict[tagSavePDFFolder]\n",
    "    _saveFileName = settingDict[tagSaveFileName]\n",
    "\n",
    "    baseText =_saveFolder + \"/\" + _saveFileName\n",
    "    com.infoMsg(sys._getframe().f_code.co_name, 'URLList : ' + baseText)\n",
    "\n",
    "    # フォルダ作成\n",
    "    os.makedirs(_savePDFFolder, exist_ok = True)\n",
    "    \n",
    "    # ファイルを開く\n",
    "    updateList = list()\n",
    "    with open(baseText, mode='r') as f:\n",
    "        cnt = 0\n",
    "        for line in f:\n",
    "            if len(line) <= 0:\n",
    "                com.infoMsg(sys._getframe().f_code.co_name, 'Size Zero')\n",
    "                continue\n",
    "            if not ( set(('{', '}')) <= set(line)):\n",
    "                com.infoMsg(sys._getframe().f_code.co_name, 'Not Json Format : ' + line)\n",
    "                continue\n",
    "\n",
    "            l = line\n",
    "            j = json.loads(line)\n",
    "            URL = j['url']\n",
    "            fileName = j['name']\n",
    "            isGetPDF = j['isGetPDF']\n",
    "            if isGetPDF == \"False\":\n",
    "                if getPDF(URL, _savePDFFolder, fileName):\n",
    "                    cnt += 1\n",
    "                    com.infoMsg(sys._getframe().f_code.co_name, 'Access URL : ' + URL + '  ' + str(cnt))\n",
    "                    l = l.replace('\"isGetPDF\" : \"False\"', '\"isGetPDF\" : \"True\"')\n",
    "\n",
    "            updateList.append(l)\n",
    "\n",
    "        com.infoMsg(sys._getframe().f_code.co_name, 'Get Size :' + str(cnt))\n",
    "\n",
    "    # ファイル更新\n",
    "    with open(baseText, mode='w') as f:\n",
    "        for line in updateList:\n",
    "                uf.fileWrite(f, line)\n",
    "    # 重複データ削除\n",
    "    uf.fileDataSlim(baseText) \n",
    "\n",
    "    com.infoMsg(sys._getframe().f_code.co_name, 'End')\n",
    "    \n",
    "    \n",
    "if __name__ == '__main__':\n",
    "    main()"
   ]
  }
 ],
 "metadata": {
  "interpreter": {
   "hash": "f58e4e82543d0cd2d619c0cff608aeecaf29525f81c9c30d530b5f9f1bf488f9"
  },
  "kernelspec": {
   "display_name": "Python 3.7.6 64-bit ('base': conda)",
   "name": "python3"
  },
  "language_info": {
   "codemirror_mode": {
    "name": "ipython",
    "version": 3
   },
   "file_extension": ".py",
   "mimetype": "text/x-python",
   "name": "python",
   "nbconvert_exporter": "python",
   "pygments_lexer": "ipython3",
   "version": "3.7.6"
  }
 },
 "nbformat": 4,
 "nbformat_minor": 4
}
