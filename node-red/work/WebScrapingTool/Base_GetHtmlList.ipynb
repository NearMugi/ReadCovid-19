{
 "cells": [
  {
   "cell_type": "markdown",
   "metadata": {},
   "source": [
    "# 特定のURLから指定した条件でhtmlリスト,画像を取得する"
   ]
  },
  {
   "cell_type": "code",
   "execution_count": 1,
   "metadata": {},
   "outputs": [
    {
     "ename": "ModuleNotFoundError",
     "evalue": "No module named 'WebScrapingTool'",
     "output_type": "error",
     "traceback": [
      "\u001b[1;31m---------------------------------------------------------------------------\u001b[0m",
      "\u001b[1;31mModuleNotFoundError\u001b[0m                       Traceback (most recent call last)",
      "\u001b[1;32m<ipython-input-1-ef418c1333c8>\u001b[0m in \u001b[0;36m<module>\u001b[1;34m()\u001b[0m\n\u001b[0;32m      3\u001b[0m \u001b[1;32mimport\u001b[0m \u001b[0mshutil\u001b[0m\u001b[1;33m\u001b[0m\u001b[0m\n\u001b[0;32m      4\u001b[0m \u001b[1;32mimport\u001b[0m \u001b[0mrequests\u001b[0m\u001b[1;33m\u001b[0m\u001b[0m\n\u001b[1;32m----> 5\u001b[1;33m \u001b[1;32mfrom\u001b[0m \u001b[0mWebScrapingTool\u001b[0m \u001b[1;32mimport\u001b[0m \u001b[0mBase_UserFunction\u001b[0m \u001b[1;32mas\u001b[0m \u001b[0muf\u001b[0m\u001b[1;33m\u001b[0m\u001b[0m\n\u001b[0m\u001b[0;32m      6\u001b[0m \u001b[1;33m\u001b[0m\u001b[0m\n\u001b[0;32m      7\u001b[0m \u001b[1;33m\u001b[0m\u001b[0m\n",
      "\u001b[1;31mModuleNotFoundError\u001b[0m: No module named 'WebScrapingTool'"
     ]
    }
   ],
   "source": [
    "import re\n",
    "import os\n",
    "import shutil\n",
    "import requests\n",
    "from WebScrapingTool import Base_UserFunction as uf\n",
    "\n",
    "\n",
    "def getImage(image_url, savePass, FuncRename):\n",
    "    try:\n",
    "        response = requests.get(image_url, stream=True, headers={'User-agent': 'Mozilla/5.0'})\n",
    "        if response.status_code == 200:\n",
    "            contenttype = response.headers['content-type']\n",
    "            if contenttype.find('jpeg') != -1 or \\\n",
    "                contenttype.find('JPG') != -1 or \\\n",
    "                contenttype.find('jpg') != -1 or \\\n",
    "                contenttype.find('png') != -1 or \\\n",
    "                contenttype.find('gif') != -1:\n",
    "                    pass\n",
    "            else:\n",
    "                return\n",
    "\n",
    "            filename = FuncRename(image_url)\n",
    "            filename = savePass + '/' + filename\n",
    "            with open(filename, 'wb') as file:\n",
    "                response.raw.decode_content = True\n",
    "                shutil.copyfileobj(response.raw, file)\n",
    "    except:\n",
    "        print('[getImage] ERROR  url: ' + image_url)\n",
    "\n",
    "\n",
    "def getHTMLlist(URL,_attrs,FuncFind,FuncRename,DownloadFolder,IsGetTextList,IsGetImgList):\n",
    "    '指定したURLから設定したした条件でデータを抽出する'\n",
    "    #引数のURLからbsObjを生成する。\n",
    "    html = uf.getHTML(URL)\n",
    "    bsObj = uf.getBS4(html)\n",
    "    \n",
    "    \n",
    "    \n",
    "    if IsGetTextList or IsGetImgList:\n",
    "        #タイトルを取得\n",
    "        title = bsObj.title.get_text()\n",
    "\n",
    "        #ダウンロードフォルダの指定がない場合はタイトル名にする\n",
    "        if DownloadFolder is None:\n",
    "            DownloadFolder = title[:20]\n",
    "\n",
    "        #フォルダ作成\n",
    "        try:\n",
    "            if os.path.exists(DownloadFolder):\n",
    "                shutil.rmtree(DownloadFolder)\n",
    "            os.mkdir(DownloadFolder)\n",
    "        except:\n",
    "            print('保存先フォルダ作成失敗　　※フォルダを開いていると失敗します。')\n",
    "            return\n",
    "\n",
    "\n",
    "        #アウトプットファイル作成\n",
    "        if IsGetTextList:\n",
    "            _t = uf.getNowTime()\n",
    "            f = uf.fileOpen(DownloadFolder + '/' + title[:20] + '_' + _t[0:8] +'_' + _t[8:] + '.txt')\n",
    "    \n",
    "\n",
    "\n",
    "    retlist = list()\n",
    "    try:\n",
    "        _htmllist = FuncFind(bsObj)\n",
    "        for _html in _htmllist:\n",
    "            if _attrs in _html.attrs:\n",
    "                _h = _html.attrs[_attrs]\n",
    "                if IsGetTextList: uf.fileWrite(f,_h+\"\\n\")\n",
    "                if IsGetImgList: getImage(_h,DownloadFolder,FuncRename)\n",
    "                retlist.append(_h)\n",
    "                \n",
    "    except AttributeError:\n",
    "        print(\"AttributeError\")\n",
    "        pass\n",
    "            \n",
    "    finally:\n",
    "        if IsGetTextList: uf.fileClose(f)\n",
    "\n",
    "    return retlist  "
   ]
  }
 ],
 "metadata": {
  "kernelspec": {
   "display_name": "Python 3",
   "language": "python",
   "name": "python3"
  },
  "language_info": {
   "codemirror_mode": {
    "name": "ipython",
    "version": 3
   },
   "file_extension": ".py",
   "mimetype": "text/x-python",
   "name": "python",
   "nbconvert_exporter": "python",
   "pygments_lexer": "ipython3",
   "version": "3.6.4"
  }
 },
 "nbformat": 4,
 "nbformat_minor": 2
}
